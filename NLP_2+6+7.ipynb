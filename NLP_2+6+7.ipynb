{
  "cells": [
    {
      "cell_type": "code",
      "execution_count": 1,
      "metadata": {
        "id": "LBnpb6nOrMrw"
      },
      "outputs": [],
      "source": [
        "import os\n",
        "from resources.utils import scrape_html\n",
        "import re\n",
        "import pandas as pd\n",
        "from tqdm import tqdm"
      ]
    },
    {
      "cell_type": "code",
      "execution_count": 2,
      "metadata": {
        "colab": {
          "base_uri": "https://localhost:8080/"
        },
        "id": "iHuxBc64rM4o",
        "outputId": "8ba058fd-5c89-43c0-87ef-a4bd1a466bc4"
      },
      "outputs": [
        {
          "name": "stdout",
          "output_type": "stream",
          "text": [
            "./corpus\\23032150.N03.html\n",
            "~~~~~~~~~~~~~~~~~~~~~~~~~~~~~~~~~~~~~~~~~~~~~~~~~~~~~~~~~~~~~~~~~~~~~~~~~~~~~~~~~~~~~~~~~~~~~~~~~~~~~\n"
          ]
        },
        {
          "data": {
            "text/plain": [
              "['בבית המשפט העליון בשבתו כבית משפט\\r\\n  גבוה לצדק',\n",
              " 'בג\"ץ',\n",
              " '3215/23',\n",
              " 'לפני:',\n",
              " \"כבוד השופט ד' מינץ\",\n",
              " \"כבוד השופטת י' וילנר\",\n",
              " \"כבוד השופטת ג' כנפי-שטייניץ\",\n",
              " 'העותר:',\n",
              " 'וליד חאלד עלי',\n",
              " 'נ',\n",
              " 'ג',\n",
              " 'ד',\n",
              " 'המשיבים:',\n",
              " '1. שופט צבאי משפטאי',\n",
              " '2. המפקד הצבאי איו\"ש',\n",
              " '3. שירות הביטחון הכללי',\n",
              " 'עתירה למתן צו על תנאי',\n",
              " 'תאריך הישיבה:',\n",
              " 'כ\"א בתמוז התשפ\"ג (10.7.2023)',\n",
              " 'בשם העותר:',\n",
              " 'עו\"ד אשרף אבו סנינה ',\n",
              " 'בשם המשיבים:',\n",
              " 'עו\"ד נועה רוזנברג ',\n",
              " 'פסק-דין',\n",
              " 'העותר יליד 1971,\\r\\nתושב אסכאכא קלקיליה, נעצר במעצר מינהלי ביום 22.7.2022. מעצרו הוארך לאחרונה עד\\r\\nליום 20.7.2023 לטענת העותר אין בסיס בדין למעצרו ומאז מעצרו לא נתקבלה הפללה\\r\\nלחובתו. ',\n",
              " 'מנגד\\r\\nלטענת המשיבים, כפי שמופיע בפרפרזה הגלויה שצוינה בתגובתם, כי העותר פעיל מעורב\\r\\nבקידום פעילות חמא\"ס עדכנית ומעצרו נדרש לשם שמירה על ביטחון האזור. אף נמסר\\r\\nכי בכוונת גורמי הבטחון להמליץ על הארכת מעצר העותר למשך 6 חודשים נוספים.',\n",
              " 'עיינו בהסכמת ב\"כ העותר בחומר הביטחוני הסודי המתייחס לעותר\\r\\nבמעמד צד אחד והגענו לכלל מסקנה כי יש בחומר כדי לתמוך בפרפרזה הגלויה וכדי לבסס\\r\\nאת הערכת גורמי הביטחון בדבר חיוניות המעצר המינהלי בנסיבות המקרה. ',\n",
              " 'בנסיבות\\r\\nאלו, החלטת המפקד הצבאי סבירה ואין מקום להתערבות בית משפט זה. ',\n",
              " 'העתירה\\r\\nנדחית.',\n",
              " 'ניתן\\r\\nהיום, \\u200fכ\"א בתמוז התשפ\"ג (\\u200f10.7.2023).',\n",
              " 'ש ו פ ט',\n",
              " 'ש ו פ ט ת',\n",
              " 'ש ו פ ט ת',\n",
              " '_________________________',\n",
              " '23032150_N03.docx',\n",
              " 'רח',\n",
              " \"מרכז מידע, טל' 077-2703333, 3852* ;\\r\\nאתר אינטרנט,\",\n",
              " 'https://supreme.court.gov.il']"
            ]
          },
          "execution_count": 2,
          "metadata": {},
          "output_type": "execute_result"
        }
      ],
      "source": [
        "corpus_path = \"./corpus\"\n",
        "filepath = os.path.join(corpus_path, os.listdir(corpus_path)[86])\n",
        "print(filepath)\n",
        "print(\"~~~~~~~~~~~~~~~~~~~~~~~~~~~~~~~~~~~~~~~~~~~~~~~~~~~~~~~~~~~~~~~~~~~~~~~~~~~~~~~~~~~~~~~~~~~~~~~~~~~~~\")\n",
        "\n",
        "res = scrape_html(filepath)\n",
        "res"
      ]
    },
    {
      "cell_type": "markdown",
      "metadata": {
        "id": "qeZY502EthuM"
      },
      "source": [
        "# **Preparing the data (2)**"
      ]
    },
    {
      "cell_type": "code",
      "execution_count": 3,
      "metadata": {
        "id": "va9ZXJ8WrM88"
      },
      "outputs": [],
      "source": [
        "def get_judges(parsed_sentences,parsed_tags,html_txt):\n",
        "    judges = []\n",
        "    seen_judge = False\n",
        "    for index,txt in enumerate(html_txt):\n",
        "        if seen_judge:\n",
        "            if re.search(\":$\",txt):\n",
        "                parsed_sentences.append(txt.split(\" \"))\n",
        "                parsed_tags.append(['O']*len(txt.split(\" \")))\n",
        "                return judges,index+1\n",
        "\n",
        "        if re.search(\"^כבוד\",txt):\n",
        "            seen_judge = True\n",
        "            parsed_sentences.append([txt])\n",
        "            judges.append(txt)\n",
        "            parsed_tags.append(['Jugde'])\n",
        "        else:\n",
        "            parsed_sentences.append(txt.split(\" \"))\n",
        "            parsed_tags.append(['O']*len(txt.split(\" \")))\n",
        "\n",
        "\n",
        "def get_prosecutors(parsed_sentences,parsed_tags,index,html_txt):\n",
        "    prosecutors = []\n",
        "    while(html_txt[index]!='נ' and html_txt[index]!='נ ג ד') :\n",
        "        prosecutor = ''.join([i for i in html_txt[index] if not i.isdigit() and i!='.'])\n",
        "        prosecutors.append(prosecutor)\n",
        "        parsed_sentences.append([prosecutor])\n",
        "        parsed_tags.append(['Prosecutor'])\n",
        "        index+=1\n",
        "    parsed_sentences.append([html_txt[index]])\n",
        "    parsed_tags.append(['O'])\n",
        "    return prosecutors,index+4\n",
        "\n",
        "\n",
        "def get_defendants(parsed_sentences,parsed_tags,index,html_txt):\n",
        "    defendants = []\n",
        "    if not re.search(\"^[1-9].\",html_txt[index]):\n",
        "        defendant = ''.join([i for i in html_txt[index] if not i.isdigit() and i!='.'])\n",
        "        defendants.append(defendant)\n",
        "        parsed_sentences.append([defendant])\n",
        "        parsed_tags.append(['Defendant'])\n",
        "        return defendants,index+1\n",
        "\n",
        "    while(re.search(\"^[1-9].\",html_txt[index])):\n",
        "        defendant = ''.join([i for i in html_txt[index] if not i.isdigit() and i!='.'])\n",
        "        defendants.append(defendant)\n",
        "        parsed_sentences.append([defendant])\n",
        "        parsed_tags.append(['Defendant'])\n",
        "        index +=1\n",
        "\n",
        "    return defendants,index\n",
        "\n",
        "def get_date(parsed_sentences,parsed_tags,index,html_txt):\n",
        "    while(not re.search(\"\\u200f[0-9]+[.][0-9]+[.][0-9][0-9]+\",html_txt[index]) and ('תאריך הישיבה:' not in html_txt[index]) and ('ניתן היום' not in html_txt[index])):\n",
        "        parsed_sentences.append(html_txt[index].split(\" \"))\n",
        "        parsed_tags.append(['O']*len(html_txt[index].split(\" \")))\n",
        "        index += 1\n",
        "        if index==len(html_txt):\n",
        "            return None\n",
        "    if re.search(\"\\u200f[1-9][0-9]*[.][1-9][0-9]*[.][0-9][0-9]+\",html_txt[index]):\n",
        "        string = re.search(\"\\u200f[1-9][0-9]*[.][1-9][0-9]*[.][0-9][0-9]+\",html_txt[index])\n",
        "        if string:\n",
        "            parsed_sentences.append([string])\n",
        "            parsed_tags.append(['Date'])\n",
        "            return string[0].replace(\"\\u200f\",\"\")\n",
        "        else:\n",
        "            return None\n",
        "    elif 'תאריך הישיבה:' in html_txt[index] or 'ניתן היום' in html_txt[index]:\n",
        "        while(not re.search(\"[1-9][0-9]*[.][1-9][0-9]*[.][0-9][0-9]+\",html_txt[index])):\n",
        "            parsed_sentences.append(html_txt[index].split(\" \"))\n",
        "            parsed_tags.append(['O']*len(html_txt[index].split(\" \")))\n",
        "            index += 1\n",
        "            if index==len(html_txt):\n",
        "                return None\n",
        "\n",
        "        parsed_sentences.append([re.search(\"[1-9][0-9]*[.][1-9][0-9]*[.][0-9][0-9]+\",html_txt[index])[0]])\n",
        "        parsed_tags.append(['Date'])\n",
        "        return re.search(\"[1-9][0-9]*[.][1-9][0-9]*[.][0-9][0-9]+\",html_txt[index])[0]\n",
        "    else:\n",
        "        return None"
      ]
    },
    {
      "cell_type": "code",
      "execution_count": 4,
      "metadata": {
        "colab": {
          "base_uri": "https://localhost:8080/"
        },
        "id": "03CI1woJrNAA",
        "outputId": "7d34ff2c-c45c-4bd9-abcf-5555b42515e0"
      },
      "outputs": [
        {
          "name": "stderr",
          "output_type": "stream",
          "text": [
            "500it [00:15, 32.44it/s]\n"
          ]
        }
      ],
      "source": [
        "judges = []\n",
        "prosecutors = []\n",
        "defendants = []\n",
        "dates = []\n",
        "parsed_sentences = []\n",
        "parsed_tags = []\n",
        "\n",
        "for i,file in enumerate(os.listdir(corpus_path)):\n",
        "    filepath = os.path.join(corpus_path, os.listdir(corpus_path)[i])\n",
        "    res = scrape_html(filepath)\n",
        "    judges_index = get_judges(parsed_sentences,parsed_tags,res)\n",
        "    judges.append(judges_index[0])\n",
        "    prosecutors_index = get_prosecutors(parsed_sentences,parsed_tags,judges_index[1],res)\n",
        "    prosecutors.append(prosecutors_index[0])\n",
        "    defendants_index = get_defendants(parsed_sentences,parsed_tags,prosecutors_index[1],res)\n",
        "    defendants.append(defendants_index[0])\n",
        "    date = get_date(parsed_sentences,parsed_tags,defendants_index[1],res)\n",
        "    dates.append(date)"
      ]
    },
    {
      "cell_type": "code",
      "execution_count": 5,
      "metadata": {
        "colab": {
          "base_uri": "https://localhost:8080/",
          "height": 419
        },
        "id": "a1SYHlABrNCr",
        "outputId": "32531a8c-4b76-41f8-a468-91dca2f725bd"
      },
      "outputs": [
        {
          "data": {
            "text/html": [
              "<div>\n",
              "<style scoped>\n",
              "    .dataframe tbody tr th:only-of-type {\n",
              "        vertical-align: middle;\n",
              "    }\n",
              "\n",
              "    .dataframe tbody tr th {\n",
              "        vertical-align: top;\n",
              "    }\n",
              "\n",
              "    .dataframe thead th {\n",
              "        text-align: right;\n",
              "    }\n",
              "</style>\n",
              "<table border=\"1\" class=\"dataframe\">\n",
              "  <thead>\n",
              "    <tr style=\"text-align: right;\">\n",
              "      <th></th>\n",
              "      <th>Judges</th>\n",
              "      <th>Prosecutors</th>\n",
              "      <th>Defendants</th>\n",
              "      <th>Dates</th>\n",
              "    </tr>\n",
              "  </thead>\n",
              "  <tbody>\n",
              "    <tr>\n",
              "      <th>0</th>\n",
              "      <td>[כבוד השופט ד' מינץ, כבוד השופט י' אלרון, כבוד...</td>\n",
              "      <td>[אגודת מגן דוד אדום בישראל]</td>\n",
              "      <td>[ שר התקשורת, \\r\\n  הועדה הבין-משרדית להקצאת מ...</td>\n",
              "      <td>21.11.2022</td>\n",
              "    </tr>\n",
              "    <tr>\n",
              "      <th>1</th>\n",
              "      <td>[כבוד השופט נ' סולברג, כבוד השופטת י' וילנר, כ...</td>\n",
              "      <td>[פלוני, המערער בע\"פ /, פלוני]</td>\n",
              "      <td>[מדינת]</td>\n",
              "      <td>12.7.2023</td>\n",
              "    </tr>\n",
              "    <tr>\n",
              "      <th>2</th>\n",
              "      <td>[כבוד השופט ד' מינץ, כבוד השופט א' שטיין, כבוד...</td>\n",
              "      <td>[חרסה סטודיו יצרני כלים סניטריים\\r\\n  בע\"מ]</td>\n",
              "      <td>[ עו\"ד ליאון אמיראס – מנהל מיוחד,  הממונה על ח...</td>\n",
              "      <td>16.7.2023</td>\n",
              "    </tr>\n",
              "    <tr>\n",
              "      <th>3</th>\n",
              "      <td>[כבוד הרשמת ליאור משאלי שלומאי]</td>\n",
              "      <td>[פלאפון תקשורת בע\"מ]</td>\n",
              "      <td>[מדינת ישראל -משרד התקשורת]</td>\n",
              "      <td>16.7.2023</td>\n",
              "    </tr>\n",
              "    <tr>\n",
              "      <th>4</th>\n",
              "      <td>[כבוד השופט נ' סולברג, כבוד השופטת ג' כנפי-שטי...</td>\n",
              "      <td>[ עמותת באמנתו יחיה,  שמעון זילבר,  אליהו טאפל...</td>\n",
              "      <td>[ מפקד תחנת משטרה לב הבירה,  מפכ\"ל משטרת ישראל...</td>\n",
              "      <td>16.7.2023</td>\n",
              "    </tr>\n",
              "    <tr>\n",
              "      <th>...</th>\n",
              "      <td>...</td>\n",
              "      <td>...</td>\n",
              "      <td>...</td>\n",
              "      <td>...</td>\n",
              "    </tr>\n",
              "    <tr>\n",
              "      <th>495</th>\n",
              "      <td>[כבוד השופט י' עמית, כבוד השופט ד' מינץ, כבוד ...</td>\n",
              "      <td>[יאסר אבראהים בדרסאוי]</td>\n",
              "      <td>[ שופט צבאי משפטאי,  המפקד הצבאי איו\"ש,  שירות...</td>\n",
              "      <td>1.6.2023</td>\n",
              "    </tr>\n",
              "    <tr>\n",
              "      <th>496</th>\n",
              "      <td>[כבוד המשנה לנשיאה ע' פוגלמן, כבוד השופט י' אל...</td>\n",
              "      <td>[לואי חמודה חמאיל]</td>\n",
              "      <td>[ שופט צבאי משפטאי,  המפקד הצבאי איו\"ש,  שירות...</td>\n",
              "      <td>1.6.2023</td>\n",
              "    </tr>\n",
              "    <tr>\n",
              "      <th>497</th>\n",
              "      <td>[כבוד השופט י' עמית, כבוד השופטת ד' ברק-ארז, כ...</td>\n",
              "      <td>[המערערות בעע\"מ /:, שירותי בריאות כללית,  חנה ...</td>\n",
              "      <td>[מתייצבת להליך:]</td>\n",
              "      <td>17.4.2023</td>\n",
              "    </tr>\n",
              "    <tr>\n",
              "      <th>498</th>\n",
              "      <td>[כבוד השופט י' אלרון, כבוד השופטת י' וילנר, כב...</td>\n",
              "      <td>[- פלונים]</td>\n",
              "      <td>[ מדינת ישראל,  ועדת המאוימים (מת\"ק חברון),  ה...</td>\n",
              "      <td>1.6.2023</td>\n",
              "    </tr>\n",
              "    <tr>\n",
              "      <th>499</th>\n",
              "      <td>[כבוד השופט י' אלרון, כבוד השופט א' שטיין, כבו...</td>\n",
              "      <td>[אפרם דויט]</td>\n",
              "      <td>[מדינת ישראל]</td>\n",
              "      <td>24.5.2023</td>\n",
              "    </tr>\n",
              "  </tbody>\n",
              "</table>\n",
              "<p>500 rows × 4 columns</p>\n",
              "</div>"
            ],
            "text/plain": [
              "                                                Judges  \\\n",
              "0    [כבוד השופט ד' מינץ, כבוד השופט י' אלרון, כבוד...   \n",
              "1    [כבוד השופט נ' סולברג, כבוד השופטת י' וילנר, כ...   \n",
              "2    [כבוד השופט ד' מינץ, כבוד השופט א' שטיין, כבוד...   \n",
              "3                      [כבוד הרשמת ליאור משאלי שלומאי]   \n",
              "4    [כבוד השופט נ' סולברג, כבוד השופטת ג' כנפי-שטי...   \n",
              "..                                                 ...   \n",
              "495  [כבוד השופט י' עמית, כבוד השופט ד' מינץ, כבוד ...   \n",
              "496  [כבוד המשנה לנשיאה ע' פוגלמן, כבוד השופט י' אל...   \n",
              "497  [כבוד השופט י' עמית, כבוד השופטת ד' ברק-ארז, כ...   \n",
              "498  [כבוד השופט י' אלרון, כבוד השופטת י' וילנר, כב...   \n",
              "499  [כבוד השופט י' אלרון, כבוד השופט א' שטיין, כבו...   \n",
              "\n",
              "                                           Prosecutors  \\\n",
              "0                          [אגודת מגן דוד אדום בישראל]   \n",
              "1                        [פלוני, המערער בע\"פ /, פלוני]   \n",
              "2          [חרסה סטודיו יצרני כלים סניטריים\\r\\n  בע\"מ]   \n",
              "3                                 [פלאפון תקשורת בע\"מ]   \n",
              "4    [ עמותת באמנתו יחיה,  שמעון זילבר,  אליהו טאפל...   \n",
              "..                                                 ...   \n",
              "495                             [יאסר אבראהים בדרסאוי]   \n",
              "496                                 [לואי חמודה חמאיל]   \n",
              "497  [המערערות בעע\"מ /:, שירותי בריאות כללית,  חנה ...   \n",
              "498                                         [- פלונים]   \n",
              "499                                        [אפרם דויט]   \n",
              "\n",
              "                                            Defendants       Dates  \n",
              "0    [ שר התקשורת, \\r\\n  הועדה הבין-משרדית להקצאת מ...  21.11.2022  \n",
              "1                                              [מדינת]   12.7.2023  \n",
              "2    [ עו\"ד ליאון אמיראס – מנהל מיוחד,  הממונה על ח...   16.7.2023  \n",
              "3                          [מדינת ישראל -משרד התקשורת]   16.7.2023  \n",
              "4    [ מפקד תחנת משטרה לב הבירה,  מפכ\"ל משטרת ישראל...   16.7.2023  \n",
              "..                                                 ...         ...  \n",
              "495  [ שופט צבאי משפטאי,  המפקד הצבאי איו\"ש,  שירות...    1.6.2023  \n",
              "496  [ שופט צבאי משפטאי,  המפקד הצבאי איו\"ש,  שירות...    1.6.2023  \n",
              "497                                   [מתייצבת להליך:]   17.4.2023  \n",
              "498  [ מדינת ישראל,  ועדת המאוימים (מת\"ק חברון),  ה...    1.6.2023  \n",
              "499                                      [מדינת ישראל]   24.5.2023  \n",
              "\n",
              "[500 rows x 4 columns]"
            ]
          },
          "execution_count": 5,
          "metadata": {},
          "output_type": "execute_result"
        }
      ],
      "source": [
        "df = pd.DataFrame(list(zip(judges, prosecutors,defendants,dates)),\n",
        "               columns =['Judges', 'Prosecutors','Defendants','Dates'])\n",
        "df"
      ]
    },
    {
      "cell_type": "code",
      "execution_count": 6,
      "metadata": {
        "id": "cDqoQWIarNFd"
      },
      "outputs": [],
      "source": [
        "#df.to_excel(\"/content/DB_2.xlsx\",index=False)"
      ]
    },
    {
      "cell_type": "markdown",
      "metadata": {
        "id": "hU0LJrCnrkzx"
      },
      "source": [
        "# **Training the Dataframe (6)**"
      ]
    },
    {
      "cell_type": "code",
      "execution_count": 7,
      "metadata": {
        "colab": {
          "base_uri": "https://localhost:8080/",
          "height": 979
        },
        "id": "V4o5gKK6rNIJ",
        "outputId": "5da48ce3-3f74-4daf-b8da-e047141e623f"
      },
      "outputs": [
        {
          "data": {
            "text/html": [
              "<div>\n",
              "<style scoped>\n",
              "    .dataframe tbody tr th:only-of-type {\n",
              "        vertical-align: middle;\n",
              "    }\n",
              "\n",
              "    .dataframe tbody tr th {\n",
              "        vertical-align: top;\n",
              "    }\n",
              "\n",
              "    .dataframe thead th {\n",
              "        text-align: right;\n",
              "    }\n",
              "</style>\n",
              "<table border=\"1\" class=\"dataframe\">\n",
              "  <thead>\n",
              "    <tr style=\"text-align: right;\">\n",
              "      <th></th>\n",
              "      <th>Sentences</th>\n",
              "      <th>Tag</th>\n",
              "    </tr>\n",
              "  </thead>\n",
              "  <tbody>\n",
              "    <tr>\n",
              "      <th>186145</th>\n",
              "      <td>גזר</td>\n",
              "      <td>O</td>\n",
              "    </tr>\n",
              "    <tr>\n",
              "      <th>186146</th>\n",
              "      <td>דינו\\r\\n</td>\n",
              "      <td>O</td>\n",
              "    </tr>\n",
              "    <tr>\n",
              "      <th>186147</th>\n",
              "      <td></td>\n",
              "      <td>O</td>\n",
              "    </tr>\n",
              "    <tr>\n",
              "      <th>186148</th>\n",
              "      <td>של</td>\n",
              "      <td>O</td>\n",
              "    </tr>\n",
              "    <tr>\n",
              "      <th>186149</th>\n",
              "      <td>בית</td>\n",
              "      <td>O</td>\n",
              "    </tr>\n",
              "    <tr>\n",
              "      <th>186150</th>\n",
              "      <td>המשפט</td>\n",
              "      <td>O</td>\n",
              "    </tr>\n",
              "    <tr>\n",
              "      <th>186151</th>\n",
              "      <td>המחוזי</td>\n",
              "      <td>O</td>\n",
              "    </tr>\n",
              "    <tr>\n",
              "      <th>186152</th>\n",
              "      <td>בתל</td>\n",
              "      <td>O</td>\n",
              "    </tr>\n",
              "    <tr>\n",
              "      <th>186153</th>\n",
              "      <td>אביב-יפו</td>\n",
              "      <td>O</td>\n",
              "    </tr>\n",
              "    <tr>\n",
              "      <th>186154</th>\n",
              "      <td>ב-תפ\"ח</td>\n",
              "      <td>O</td>\n",
              "    </tr>\n",
              "    <tr>\n",
              "      <th>186155</th>\n",
              "      <td>6078-04-21</td>\n",
              "      <td>O</td>\n",
              "    </tr>\n",
              "    <tr>\n",
              "      <th>186156</th>\n",
              "      <td>מיום</td>\n",
              "      <td>O</td>\n",
              "    </tr>\n",
              "    <tr>\n",
              "      <th>186157</th>\n",
              "      <td>22.9.2022</td>\n",
              "      <td>O</td>\n",
              "    </tr>\n",
              "    <tr>\n",
              "      <th>186158</th>\n",
              "      <td>שניתן\\r\\n</td>\n",
              "      <td>O</td>\n",
              "    </tr>\n",
              "    <tr>\n",
              "      <th>186159</th>\n",
              "      <td></td>\n",
              "      <td>O</td>\n",
              "    </tr>\n",
              "    <tr>\n",
              "      <th>186160</th>\n",
              "      <td>על</td>\n",
              "      <td>O</td>\n",
              "    </tr>\n",
              "    <tr>\n",
              "      <th>186161</th>\n",
              "      <td>ידי</td>\n",
              "      <td>O</td>\n",
              "    </tr>\n",
              "    <tr>\n",
              "      <th>186162</th>\n",
              "      <td>השופטים</td>\n",
              "      <td>O</td>\n",
              "    </tr>\n",
              "    <tr>\n",
              "      <th>186163</th>\n",
              "      <td>ג'</td>\n",
              "      <td>O</td>\n",
              "    </tr>\n",
              "    <tr>\n",
              "      <th>186164</th>\n",
              "      <td>רביד,</td>\n",
              "      <td>O</td>\n",
              "    </tr>\n",
              "    <tr>\n",
              "      <th>186165</th>\n",
              "      <td>ע'</td>\n",
              "      <td>O</td>\n",
              "    </tr>\n",
              "    <tr>\n",
              "      <th>186166</th>\n",
              "      <td>מאור</td>\n",
              "      <td>O</td>\n",
              "    </tr>\n",
              "    <tr>\n",
              "      <th>186167</th>\n",
              "      <td>ו-מ'</td>\n",
              "      <td>O</td>\n",
              "    </tr>\n",
              "    <tr>\n",
              "      <th>186168</th>\n",
              "      <td>בן-ארי</td>\n",
              "      <td>O</td>\n",
              "    </tr>\n",
              "    <tr>\n",
              "      <th>186169</th>\n",
              "      <td>תאריך</td>\n",
              "      <td>O</td>\n",
              "    </tr>\n",
              "    <tr>\n",
              "      <th>186170</th>\n",
              "      <td>הישיבה:</td>\n",
              "      <td>O</td>\n",
              "    </tr>\n",
              "    <tr>\n",
              "      <th>186171</th>\n",
              "      <td>ד'</td>\n",
              "      <td>O</td>\n",
              "    </tr>\n",
              "    <tr>\n",
              "      <th>186172</th>\n",
              "      <td>בסיון</td>\n",
              "      <td>O</td>\n",
              "    </tr>\n",
              "    <tr>\n",
              "      <th>186173</th>\n",
              "      <td>התשפ\"ג</td>\n",
              "      <td>O</td>\n",
              "    </tr>\n",
              "    <tr>\n",
              "      <th>186174</th>\n",
              "      <td>24.5.2023</td>\n",
              "      <td>Date</td>\n",
              "    </tr>\n",
              "  </tbody>\n",
              "</table>\n",
              "</div>"
            ],
            "text/plain": [
              "         Sentences   Tag\n",
              "186145         גזר     O\n",
              "186146    דינו\\r\\n     O\n",
              "186147                 O\n",
              "186148          של     O\n",
              "186149         בית     O\n",
              "186150       המשפט     O\n",
              "186151      המחוזי     O\n",
              "186152         בתל     O\n",
              "186153    אביב-יפו     O\n",
              "186154      ב-תפ\"ח     O\n",
              "186155  6078-04-21     O\n",
              "186156        מיום     O\n",
              "186157   22.9.2022     O\n",
              "186158   שניתן\\r\\n     O\n",
              "186159                 O\n",
              "186160          על     O\n",
              "186161         ידי     O\n",
              "186162     השופטים     O\n",
              "186163          ג'     O\n",
              "186164       רביד,     O\n",
              "186165          ע'     O\n",
              "186166        מאור     O\n",
              "186167        ו-מ'     O\n",
              "186168      בן-ארי     O\n",
              "186169       תאריך     O\n",
              "186170     הישיבה:     O\n",
              "186171          ד'     O\n",
              "186172       בסיון     O\n",
              "186173      התשפ\"ג     O\n",
              "186174   24.5.2023  Date"
            ]
          },
          "execution_count": 7,
          "metadata": {},
          "output_type": "execute_result"
        }
      ],
      "source": [
        "sentences = [item for sublist in parsed_sentences for item in sublist]\n",
        "tags = [item for sublist in parsed_tags for item in sublist]\n",
        "\n",
        "train_df = pd.DataFrame(list(zip(sentences,tags)),\n",
        "               columns =['Sentences', 'Tag'])\n",
        "train_df.tail(30)"
      ]
    },
    {
      "cell_type": "code",
      "execution_count": 8,
      "metadata": {
        "colab": {
          "base_uri": "https://localhost:8080/"
        },
        "id": "6QCh3gHrrNKs",
        "outputId": "e1365ad9-a4d7-43e5-ca71-99f1c6d8f35c"
      },
      "outputs": [
        {
          "data": {
            "text/plain": [
              "O             182224\n",
              "Jugde           1413\n",
              "Defendant       1225\n",
              "Prosecutor       813\n",
              "Date             500\n",
              "Name: Tag, dtype: int64"
            ]
          },
          "execution_count": 8,
          "metadata": {},
          "output_type": "execute_result"
        }
      ],
      "source": [
        "train_df['Tag'].value_counts()"
      ]
    },
    {
      "cell_type": "code",
      "execution_count": 9,
      "metadata": {
        "id": "BjVlE9oqrrjJ"
      },
      "outputs": [],
      "source": [
        "words = list(set(train_df[\"Sentences\"].values))\n",
        "tags = list(set(train_df[\"Tag\"].values))\n",
        "word2idx = {w: i + 1 for i, w in enumerate(words)}\n",
        "tag2idx = {t: i for i, t in enumerate(tags)}"
      ]
    },
    {
      "cell_type": "code",
      "execution_count": 10,
      "metadata": {
        "id": "h5yQRbZwrrme"
      },
      "outputs": [],
      "source": [
        "import tqdm\n",
        "import numpy as np\n",
        "\n",
        "\n",
        "def sentence_integrate(data):\n",
        "  agg_func = lambda s: [(w, t) for w, t in zip(s[\"Sentences\"].values.tolist(),\n",
        "                                                           s[\"Tag\"].values.tolist())]\n",
        "  return data.groupby(np.arange(len(data.index))//50, axis=0).apply(agg_func).tolist()"
      ]
    },
    {
      "cell_type": "code",
      "execution_count": 11,
      "metadata": {
        "id": "uwQ-xH7xrrpR"
      },
      "outputs": [],
      "source": [
        "sentences=sentence_integrate(train_df)"
      ]
    },
    {
      "cell_type": "code",
      "execution_count": 14,
      "metadata": {
        "id": "KT_7GopnrrsM"
      },
      "outputs": [],
      "source": [
        "from tensorflow.keras.preprocessing.sequence import pad_sequences\n",
        "\n",
        "max_len = 50\n",
        "\n",
        "X = [[word2idx[w[0]] for w in s] for s in sentences]\n",
        "X = pad_sequences(maxlen=max_len, sequences=X, padding=\"post\", value=len(words)-1)\n",
        "\n",
        "y = [[tag2idx[w[1]] for w in s] for s in sentences]\n",
        "y = pad_sequences(maxlen=max_len, sequences=y, padding=\"post\", value=tag2idx[\"O\"])"
      ]
    },
    {
      "cell_type": "code",
      "execution_count": 15,
      "metadata": {
        "id": "-qQM2uTxrru4"
      },
      "outputs": [],
      "source": [
        "from sklearn.model_selection import train_test_split\n",
        "x_train, x_test, y_train, y_test = train_test_split(X, y, test_size=0.2, random_state=1)"
      ]
    },
    {
      "cell_type": "code",
      "execution_count": 16,
      "metadata": {
        "id": "IbN6B6Fvrrxj"
      },
      "outputs": [],
      "source": [
        "import tensorflow as tf\n",
        "from tensorflow import keras\n",
        "from keras.models import Sequential\n",
        "from keras.layers import LSTM,Embedding\n",
        "from tensorflow.keras.layers import InputLayer, SpatialDropout1D, Bidirectional"
      ]
    },
    {
      "cell_type": "code",
      "execution_count": 17,
      "metadata": {
        "id": "g_YF85Egrr0G"
      },
      "outputs": [],
      "source": [
        "num_words = len(words)"
      ]
    },
    {
      "cell_type": "code",
      "execution_count": 18,
      "metadata": {
        "colab": {
          "base_uri": "https://localhost:8080/"
        },
        "id": "K8Hl_erbrr28",
        "outputId": "e7b78669-3c03-443b-cb9f-7ff04a5dabd0"
      },
      "outputs": [
        {
          "name": "stdout",
          "output_type": "stream",
          "text": [
            "Model: \"sequential\"\n",
            "_________________________________________________________________\n",
            " Layer (type)                Output Shape              Param #   \n",
            "=================================================================\n",
            " embedding (Embedding)       (None, 50, 50)            2164600   \n",
            "                                                                 \n",
            " spatial_dropout1d (SpatialD  (None, 50, 50)           0         \n",
            " ropout1D)                                                       \n",
            "                                                                 \n",
            " bidirectional (Bidirectiona  (None, 50, 200)          120800    \n",
            " l)                                                              \n",
            "                                                                 \n",
            "=================================================================\n",
            "Total params: 2,285,400\n",
            "Trainable params: 2,285,400\n",
            "Non-trainable params: 0\n",
            "_________________________________________________________________\n"
          ]
        }
      ],
      "source": [
        "model = keras.Sequential()\n",
        "model.add(InputLayer((max_len)))\n",
        "model.add(Embedding(input_dim=num_words+1, output_dim=max_len, input_length=max_len))\n",
        "model.add(SpatialDropout1D(0.1))\n",
        "model.add(Bidirectional(LSTM(units=100, return_sequences=True, recurrent_dropout=0.1)))\n",
        "\n",
        "model.summary()"
      ]
    },
    {
      "cell_type": "code",
      "execution_count": 19,
      "metadata": {
        "id": "7CDccKYgrr5U"
      },
      "outputs": [],
      "source": [
        "model.compile(optimizer=\"adam\",\n",
        "              loss=\"sparse_categorical_crossentropy\",\n",
        "              metrics=[\"accuracy\"])"
      ]
    },
    {
      "cell_type": "code",
      "execution_count": 20,
      "metadata": {
        "colab": {
          "base_uri": "https://localhost:8080/"
        },
        "id": "lr5Vuhrurr76",
        "outputId": "c94f3659-457f-4458-eb63-b1744eaa06c3"
      },
      "outputs": [
        {
          "name": "stdout",
          "output_type": "stream",
          "text": [
            "Collecting livelossplot\n",
            "  Downloading livelossplot-0.5.5-py3-none-any.whl (22 kB)\n",
            "Requirement already satisfied: matplotlib in /usr/local/lib/python3.10/dist-packages (from livelossplot) (3.7.1)\n",
            "Requirement already satisfied: bokeh in /usr/local/lib/python3.10/dist-packages (from livelossplot) (3.2.1)\n",
            "Requirement already satisfied: Jinja2>=2.9 in /usr/local/lib/python3.10/dist-packages (from bokeh->livelossplot) (3.1.2)\n",
            "Requirement already satisfied: contourpy>=1 in /usr/local/lib/python3.10/dist-packages (from bokeh->livelossplot) (1.1.0)\n",
            "Requirement already satisfied: numpy>=1.16 in /usr/local/lib/python3.10/dist-packages (from bokeh->livelossplot) (1.23.5)\n",
            "Requirement already satisfied: packaging>=16.8 in /usr/local/lib/python3.10/dist-packages (from bokeh->livelossplot) (23.1)\n",
            "Requirement already satisfied: pandas>=1.2 in /usr/local/lib/python3.10/dist-packages (from bokeh->livelossplot) (1.5.3)\n",
            "Requirement already satisfied: pillow>=7.1.0 in /usr/local/lib/python3.10/dist-packages (from bokeh->livelossplot) (9.4.0)\n",
            "Requirement already satisfied: PyYAML>=3.10 in /usr/local/lib/python3.10/dist-packages (from bokeh->livelossplot) (6.0.1)\n",
            "Requirement already satisfied: tornado>=5.1 in /usr/local/lib/python3.10/dist-packages (from bokeh->livelossplot) (6.3.1)\n",
            "Requirement already satisfied: xyzservices>=2021.09.1 in /usr/local/lib/python3.10/dist-packages (from bokeh->livelossplot) (2023.7.0)\n",
            "Requirement already satisfied: cycler>=0.10 in /usr/local/lib/python3.10/dist-packages (from matplotlib->livelossplot) (0.11.0)\n",
            "Requirement already satisfied: fonttools>=4.22.0 in /usr/local/lib/python3.10/dist-packages (from matplotlib->livelossplot) (4.42.0)\n",
            "Requirement already satisfied: kiwisolver>=1.0.1 in /usr/local/lib/python3.10/dist-packages (from matplotlib->livelossplot) (1.4.4)\n",
            "Requirement already satisfied: pyparsing>=2.3.1 in /usr/local/lib/python3.10/dist-packages (from matplotlib->livelossplot) (3.1.1)\n",
            "Requirement already satisfied: python-dateutil>=2.7 in /usr/local/lib/python3.10/dist-packages (from matplotlib->livelossplot) (2.8.2)\n",
            "Requirement already satisfied: MarkupSafe>=2.0 in /usr/local/lib/python3.10/dist-packages (from Jinja2>=2.9->bokeh->livelossplot) (2.1.3)\n",
            "Requirement already satisfied: pytz>=2020.1 in /usr/local/lib/python3.10/dist-packages (from pandas>=1.2->bokeh->livelossplot) (2023.3)\n",
            "Requirement already satisfied: six>=1.5 in /usr/local/lib/python3.10/dist-packages (from python-dateutil>=2.7->matplotlib->livelossplot) (1.16.0)\n",
            "Installing collected packages: livelossplot\n",
            "Successfully installed livelossplot-0.5.5\n"
          ]
        }
      ],
      "source": [
        "!pip install livelossplot"
      ]
    },
    {
      "cell_type": "code",
      "execution_count": 21,
      "metadata": {
        "id": "vUBtczg0rr-S"
      },
      "outputs": [],
      "source": [
        "from tensorflow.keras.callbacks import ModelCheckpoint, EarlyStopping\n",
        "from livelossplot.tf_keras import PlotLossesCallback\n",
        "import tensorflow as tf\n",
        "\n",
        "from livelossplot import PlotLossesKeras\n",
        "from tqdm import tqdm\n",
        "from keras.callbacks import EarlyStopping,ModelCheckpoint,ReduceLROnPlateau"
      ]
    },
    {
      "cell_type": "code",
      "execution_count": 22,
      "metadata": {
        "colab": {
          "base_uri": "https://localhost:8080/",
          "height": 960
        },
        "id": "lK3nfyVEsXN_",
        "outputId": "c094c2fd-34fe-42a0-f365-f459ffef9931"
      },
      "outputs": [
        {
          "data": {
            "image/png": "[encoded data removed]",
            "text/plain": [
              "<Figure size 1200x800 with 2 Axes>"
            ]
          },
          "metadata": {},
          "output_type": "display_data"
        },
        {
          "name": "stdout",
          "output_type": "stream",
          "text": [
            "accuracy\n",
            "\ttraining         \t (min:    0.923, max:    0.991, cur:    0.991)\n",
            "\tvalidation       \t (min:    0.974, max:    0.983, cur:    0.978)\n",
            "Loss\n",
            "\ttraining         \t (min:    0.035, max:    0.931, cur:    0.035)\n",
            "\tvalidation       \t (min:    0.068, max:    0.158, cur:    0.150)\n",
            "\b\b\b\b\b\b\b\b\b\b\b\b\b\b\b\b\b\b\b\b\b\b\b\b\b\b\b\b\b\b\b\b\b\b\b\b\b\b\b\b\b\b\b\b\b\b\b\b\b\b\b\b\b\b\b\b\b\b\b\b\b\b\b\b\b\b\b\b\b\b\b\b\b\b\b\b\b\b\b\b\b\b\r94/94 [==============================] - 13s 136ms/step - loss: 0.0349 - accuracy: 0.9914 - val_loss: 0.1498 - val_accuracy: 0.9776\n",
            "CPU times: user 1min 49s, sys: 2.8 s, total: 1min 52s\n",
            "Wall time: 1min 15s\n"
          ]
        }
      ],
      "source": [
        "%%time\n",
        "\n",
        "early_stopping = EarlyStopping(monitor='val_accuracy', min_delta=0, patience=1, verbose=0, mode='max', baseline=None, restore_best_weights=False)\n",
        "\n",
        "callbacks = [PlotLossesCallback(), early_stopping]\n",
        "\n",
        "history = model.fit(\n",
        "    x=x_train,\n",
        "    y=y_train,\n",
        "    validation_data=(x_test,y_test),\n",
        "    batch_size=32,\n",
        "    epochs=5,\n",
        "    callbacks=callbacks,\n",
        "    verbose=1\n",
        ")\n"
      ]
    },
    {
      "cell_type": "code",
      "execution_count": 23,
      "metadata": {
        "colab": {
          "base_uri": "https://localhost:8080/"
        },
        "id": "7zRvUM5-sXSu",
        "outputId": "47190f44-2153-4f19-a188-d9d0881e8bc8"
      },
      "outputs": [
        {
          "name": "stdout",
          "output_type": "stream",
          "text": [
            "Evaluate on test data\n",
            "6/6 [==============================] - 0s 52ms/step - loss: 0.1498 - accuracy: 0.9776\n",
            "test loss: 0.14978687465190887 \n",
            "test accuracy: 0.9775838851928711 \n"
          ]
        }
      ],
      "source": [
        "print(\"Evaluate on test data\")\n",
        "results = model.evaluate(x_test, y_test, batch_size=128)\n",
        "print(\"test loss: {} \".format(results[0]))\n",
        "print(\"test accuracy: {} \".format(results[1]))"
      ]
    },
    {
      "cell_type": "markdown",
      "metadata": {
        "id": "SATkCPX7sgJK"
      },
      "source": [
        "# **(2) VS (6)**"
      ]
    },
    {
      "cell_type": "code",
      "execution_count": 28,
      "metadata": {
        "colab": {
          "base_uri": "https://localhost:8080/"
        },
        "id": "kO8804yVsXVJ",
        "outputId": "4aa504c4-56e4-4487-d7e3-47caa9d460d3"
      },
      "outputs": [
        {
          "name": "stdout",
          "output_type": "stream",
          "text": [
            "This is sentence: 35\n",
            "1/1 [==============================] - 0s 20ms/step\n",
            "Word                     True (סעיף 2)\t Pred (סעיף 6)\n",
            "\n",
            "--------------------------------------------------\n",
            "שאין                          O    \tO\n",
            "הבדלים                        O    \tO\n",
            "מהותיים\n",
            "בין                   O    \tO\n",
            "מבנים                         O    \tO\n",
            "אלו                           O    \tO\n",
            "למבנים                        O    \tO\n",
            "מושא                          O    \tO\n",
            "העתירה.                       O    \tO\n",
            "                              O    \tO\n",
            "רביעית                        O    \tO\n",
            ",                             O    \tO\n",
            "                              O    \tO\n",
            "טוענים                        O    \tO\n",
            "העותרים                       O    \tO\n",
            "כי                            O    \tO\n",
            "נפל                           O    \tO\n",
            "שיהוי                         O    \tO\n",
            "רב                            O    \tO\n",
            "בהוצאת\n",
            "צווי                   O    \tO\n",
            "ההריסה                        O    \tO\n",
            "מושא                          O    \tO\n",
            "העתירה                        O    \tO\n",
            "דנן                           O    \tO\n",
            "(ובתוך                        O    \tO\n",
            "כך                            O    \tO\n",
            "באכיפת                        O    \tO\n",
            "צו                            O    \tO\n",
            "איסור                         O    \tO\n",
            "הבניה),                       O    \tO\n",
            "מקום                          O    \tO\n",
            "בו                            O    \tO\n",
            "המבנים\n",
            "הוקמו                  O    \tO\n",
            "כשנתיים                       O    \tO\n",
            "קודם                          O    \tO\n",
            "למתן                          O    \tO\n",
            "הצווים                        O    \tO\n",
            "הנ\"ל.                         O    \tO\n",
            "                              O    \tO\n",
            "חמישית                        O    \tO\n",
            ",                             O    \tO\n",
            "העותרים                       O    \tO\n",
            "טוענים                        O    \tO\n",
            "כי                            O    \tO\n",
            "המשיב                         O    \tO\n",
            "נעדר                          O    \tO\n",
            "סמכות                         O    \tO\n",
            "להורות                        O    \tO\n",
            "על\n",
            "הריסת                      O    \tO\n",
            "המבנים,                       O    \tO\n",
            "מכיוון                        O    \tO\n"
          ]
        }
      ],
      "source": [
        "i = 35\n",
        "print(\"This is sentence:\",i)\n",
        "p = model.predict(np.array([x_test[i]]))\n",
        "p = np.argmax(p, axis=-1)\n",
        "\n",
        "print(\"{:25}{:5}\\t {}\\n\".format(\"Word\", \"True (סעיף 2)\", \"Pred (סעיף 6)\"))\n",
        "print(\"-\" *50)\n",
        "for w, true, pred in zip(x_test[i], y_test[i], p[0]):\n",
        "    print(\"{:30}{:5}\\t{}\".format(words[w-1], tags[true], tags[pred]))"
      ]
    },
    {
      "cell_type": "code",
      "execution_count": 25,
      "metadata": {
        "colab": {
          "base_uri": "https://localhost:8080/"
        },
        "id": "kFqJK-ppsXXa",
        "outputId": "6edd8fd5-3a2a-429c-b546-e8e786aaca5b"
      },
      "outputs": [
        {
          "name": "stdout",
          "output_type": "stream",
          "text": [
            "This is sentence: 35\n",
            "1/1 [==============================] - 0s 22ms/step\n",
            "Word                     True (סעיף 2)\t Pred (סעיף 6)\n",
            "\n",
            "--------------------------------------------------\n",
            "שאין                          O    \tO\n",
            "הבדלים                        O    \tO\n",
            "מהותיים\n",
            "בין                   O    \tO\n",
            "מבנים                         O    \tO\n",
            "אלו                           O    \tO\n",
            "למבנים                        O    \tO\n",
            "מושא                          O    \tO\n",
            "העתירה.                       O    \tO\n",
            "                              O    \tO\n",
            "רביעית                        O    \tO\n",
            ",                             O    \tO\n",
            "                              O    \tO\n",
            "טוענים                        O    \tO\n",
            "העותרים                       O    \tO\n",
            "כי                            O    \tO\n",
            "נפל                           O    \tO\n",
            "שיהוי                         O    \tO\n",
            "רב                            O    \tO\n",
            "בהוצאת\n",
            "צווי                   O    \tO\n",
            "ההריסה                        O    \tO\n",
            "מושא                          O    \tO\n",
            "העתירה                        O    \tO\n",
            "דנן                           O    \tO\n",
            "(ובתוך                        O    \tO\n",
            "כך                            O    \tO\n",
            "באכיפת                        O    \tO\n",
            "צו                            O    \tO\n",
            "איסור                         O    \tO\n",
            "הבניה),                       O    \tO\n",
            "מקום                          O    \tO\n",
            "בו                            O    \tO\n",
            "המבנים\n",
            "הוקמו                  O    \tO\n",
            "כשנתיים                       O    \tO\n",
            "קודם                          O    \tO\n",
            "למתן                          O    \tO\n",
            "הצווים                        O    \tO\n",
            "הנ\"ל.                         O    \tO\n",
            "                              O    \tO\n",
            "חמישית                        O    \tO\n",
            ",                             O    \tO\n",
            "העותרים                       O    \tO\n",
            "טוענים                        O    \tO\n",
            "כי                            O    \tO\n",
            "המשיב                         O    \tO\n",
            "נעדר                          O    \tO\n",
            "סמכות                         O    \tO\n",
            "להורות                        O    \tO\n",
            "על\n",
            "הריסת                      O    \tO\n",
            "המבנים,                       O    \tO\n",
            "מכיוון                        O    \tO\n"
          ]
        }
      ],
      "source": [
        "i = 35\n",
        "print(\"This is sentence:\",i)\n",
        "p = model.predict(np.array([x_test[i]]))\n",
        "p = np.argmax(p, axis=-1)\n",
        "\n",
        "print(\"{:25}{:5}\\t {}\\n\".format(\"Word\", \"True (סעיף 2)\", \"Pred (סעיף 6)\"))\n",
        "print(\"-\" *50)\n",
        "for w, true, pred in zip(x_test[i], y_test[i], p[0]):\n",
        "    print(\"{:30}{:5}\\t{}\".format(words[w-1], tags[true], tags[pred]))"
      ]
    }
  ],
  "metadata": {
    "colab": {
      "provenance": []
    },
    "kernelspec": {
      "display_name": "Python 3",
      "name": "python3"
    },
    "language_info": {
      "codemirror_mode": {
        "name": "ipython",
        "version": 3
      },
      "file_extension": ".py",
      "mimetype": "text/x-python",
      "name": "python",
      "nbconvert_exporter": "python",
      "pygments_lexer": "ipython3",
      "version": "3.10.11"
    }
  },
  "nbformat": 4,
  "nbformat_minor": 0
}
